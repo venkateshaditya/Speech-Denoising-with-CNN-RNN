{
  "nbformat": 4,
  "nbformat_minor": 0,
  "metadata": {
    "colab": {
      "name": "Speech_Denoising_1D_CNN.ipynb",
      "version": "0.3.2",
      "provenance": [],
      "collapsed_sections": [],
      "toc_visible": true
    },
    "kernelspec": {
      "name": "python3",
      "display_name": "Python 3"
    },
    "accelerator": "GPU"
  },
  "cells": [
    {
      "metadata": {
        "id": "OEpgQWuLMzN5",
        "colab_type": "code",
        "colab": {}
      },
      "cell_type": "code",
      "source": [
        "import tensorflow as tf\n",
        "import pandas as pd\n",
        "import numpy as np\n",
        "import matplotlib.pyplot as plt\n",
        "from scipy import signal\n",
        "from google.colab import files\n",
        "#!pip install librosa # in colab, you'll need to install this\n",
        "import librosa"
      ],
      "execution_count": 0,
      "outputs": []
    },
    {
      "metadata": {
        "id": "Rgoa2ZnCaOR4",
        "colab_type": "code",
        "colab": {}
      },
      "cell_type": "code",
      "source": [
        "train_clean_vector, train_clean_sr=librosa.load('train_clean_male.wav', sr=None)\n",
        "train_clean_stft=librosa.stft(train_clean_vector, n_fft=1024, hop_length=512)\n",
        "\n",
        "train_noisy_vector, train_noisy_sr=librosa.load('train_dirty_male.wav', sr=None)\n",
        "train_noisy_stft=librosa.stft(train_noisy_vector, n_fft=1024, hop_length=512)\n",
        "\n",
        "test1_vector, test1_sr=librosa.load('test_x_01.wav', sr=None)\n",
        "test1_stft=librosa.stft(test1_vector, n_fft=1024, hop_length=512)\n",
        "\n",
        "test2_vector, test2_sr=librosa.load('test_x_02.wav', sr=None)\n",
        "test2_stft=librosa.stft(test2_vector, n_fft=1024, hop_length=512)"
      ],
      "execution_count": 0,
      "outputs": []
    },
    {
      "metadata": {
        "id": "91zOO0JGtioW",
        "colab_type": "text"
      },
      "cell_type": "markdown",
      "source": [
        "## Data Transformation"
      ]
    },
    {
      "metadata": {
        "id": "OOOchNyJvKir",
        "colab_type": "code",
        "colab": {}
      },
      "cell_type": "code",
      "source": [
        "train_Y=np.abs(train_clean_stft).transpose()\n",
        "train_X=np.abs(train_noisy_stft).transpose()\n",
        "test1_X=np.abs(test1_stft).transpose()\n",
        "test2_X=np.abs(test2_stft).transpose()"
      ],
      "execution_count": 0,
      "outputs": []
    },
    {
      "metadata": {
        "id": "27hmpVuiGFqI",
        "colab_type": "code",
        "colab": {}
      },
      "cell_type": "code",
      "source": [
        "x = tf.placeholder(tf.float32, [None, 513])\n",
        "y = tf.placeholder(tf.float32, [None, 513])\n",
        "y_raw=tf.placeholder(tf.float32, [None, 513])\n",
        "input_layer = tf.reshape(x, [-1, 1,513])"
      ],
      "execution_count": 0,
      "outputs": []
    },
    {
      "metadata": {
        "id": "vXm8e3KUtlkc",
        "colab_type": "text"
      },
      "cell_type": "markdown",
      "source": [
        "## 1D CNN Configuration"
      ]
    },
    {
      "metadata": {
        "id": "TZBh7NXWBaLq",
        "colab_type": "code",
        "colab": {}
      },
      "cell_type": "code",
      "source": [
        "conv1 = tf.layers.conv1d(inputs=input_layer, filters=16, kernel_size=16, padding=\"same\", activation=tf.nn.relu)\n",
        "pool1 = tf.layers.max_pooling1d(inputs=conv1, pool_size=2, strides=2, padding=\"same\")\n",
        "conv2 = tf.layers.conv1d(inputs=pool1, filters=32, kernel_size=8, padding=\"same\", activation=tf.nn.relu)\n",
        "pool2 = tf.layers.max_pooling1d(inputs=conv2, pool_size=2, strides=2, padding=\"same\")\n",
        "fc = tf.layers.dense(inputs=pool2,units=2048,activation=tf.nn.relu)\n",
        "output = tf.layers.dense(inputs=fc,units=513,activation=tf.nn.relu)\n",
        "output=tf.reshape(output,[-1,513])"
      ],
      "execution_count": 0,
      "outputs": []
    },
    {
      "metadata": {
        "id": "TpgnwnjCPzto",
        "colab_type": "code",
        "colab": {}
      },
      "cell_type": "code",
      "source": [
        "mse = tf.losses.mean_squared_error(y,output)*10\n",
        "numerator=tf.log(tf.reduce_sum(tf.math.pow(y,2))/tf.reduce_sum(tf.math.pow(tf.math.subtract(y,output),2)))\n",
        "denominator = tf.log(tf.constant(10, dtype=numerator.dtype))\n",
        "snr=10*(numerator/denominator)\n",
        "opt=100/snr"
      ],
      "execution_count": 0,
      "outputs": []
    },
    {
      "metadata": {
        "id": "UtS1D0ZUt5Ow",
        "colab_type": "text"
      },
      "cell_type": "markdown",
      "source": [
        "## Model Training"
      ]
    },
    {
      "metadata": {
        "id": "FDcI-AcuCYIz",
        "colab_type": "code",
        "outputId": "ad68f2cc-71d0-42f4-d151-405f91e95509",
        "colab": {
          "base_uri": "https://localhost:8080/",
          "height": 1794
        }
      },
      "cell_type": "code",
      "source": [
        "learning_rate = 1\n",
        "epochs = 1000\n",
        "batch_size = 256\n",
        "optimiser = tf.train.GradientDescentOptimizer(learning_rate=learning_rate).minimize(mse)\n",
        "\n",
        "with tf.Session() as sess:\n",
        "  init_op = tf.global_variables_initializer()\n",
        "  sess.run(init_op)\n",
        "  total_batch = int(len(train_X) / batch_size)\n",
        "  \n",
        "  for epoch in range(epochs):\n",
        "    a = np.arange(len(train_X))\n",
        "    index=np.random.shuffle(a)\n",
        "    X_shuffled, Y_shuffled = train_X[index][0],train_Y[index][0]\n",
        "    avg_cost = 0\n",
        "    snr_value=0\n",
        "    opt_value=0\n",
        "    \n",
        "    for i in range(total_batch):\n",
        "      batch_x, batch_y = X_shuffled[i*batch_size:(i*batch_size)+batch_size],Y_shuffled[i*batch_size:(i*batch_size)+batch_size]\n",
        "      _ , c, snr1,opt1 = sess.run([optimiser, mse,snr,opt], feed_dict={x: batch_x, y: batch_y})\n",
        "      avg_cost += c / total_batch\n",
        "      snr_value += snr1/total_batch\n",
        "      opt_value += opt1/total_batch\n",
        "    if(epoch==0 or (epoch+1)%10==0):\n",
        "      print(\"Epoch:\", (epoch + 1), \"cost =\", \"{:.3f}\".format(avg_cost),\"SNR: \",\"{:.3f}\".format(snr_value),\"opt: \",\"{:.3f}\".format(opt_value))\n",
        "    if(epoch>=300 and epoch%100==0):\n",
        "      learning_rate=learning_rate/2\n",
        "      optimiser = tf.train.GradientDescentOptimizer(learning_rate=learning_rate).minimize(mse)\n",
        "  \n",
        "  #Reconstruction with the trained model\n",
        "  train_clean=sess.run(output, feed_dict={x: train_X})\n",
        "  test1_clean=sess.run(output, feed_dict={x: test1_X})\n",
        "  test2_clean=sess.run(output, feed_dict={x: test2_X})"
      ],
      "execution_count": 8,
      "outputs": [
        {
          "output_type": "stream",
          "text": [
            "Epoch: 1 cost = 0.950 SNR:  0.393 opt:  1548.906\n",
            "Epoch: 10 cost = 0.772 SNR:  1.298 opt:  98.409\n",
            "Epoch: 20 cost = 0.473 SNR:  3.163 opt:  33.923\n",
            "Epoch: 30 cost = 0.401 SNR:  3.884 opt:  26.850\n",
            "Epoch: 40 cost = 0.315 SNR:  4.848 opt:  21.801\n",
            "Epoch: 50 cost = 0.248 SNR:  5.832 opt:  17.954\n",
            "Epoch: 60 cost = 0.228 SNR:  6.189 opt:  16.869\n",
            "Epoch: 70 cost = 0.222 SNR:  6.283 opt:  16.847\n",
            "Epoch: 80 cost = 0.189 SNR:  6.987 opt:  14.999\n",
            "Epoch: 90 cost = 0.187 SNR:  7.031 opt:  14.858\n",
            "Epoch: 100 cost = 0.173 SNR:  7.358 opt:  14.220\n",
            "Epoch: 110 cost = 0.156 SNR:  7.833 opt:  13.297\n",
            "Epoch: 120 cost = 0.153 SNR:  7.932 opt:  13.192\n",
            "Epoch: 130 cost = 0.141 SNR:  8.249 opt:  12.735\n",
            "Epoch: 140 cost = 0.129 SNR:  8.639 opt:  12.087\n",
            "Epoch: 150 cost = 0.143 SNR:  8.240 opt:  12.797\n",
            "Epoch: 160 cost = 0.130 SNR:  8.629 opt:  12.160\n",
            "Epoch: 170 cost = 0.117 SNR:  9.058 opt:  11.622\n",
            "Epoch: 180 cost = 0.109 SNR:  9.402 opt:  11.083\n",
            "Epoch: 190 cost = 0.106 SNR:  9.486 opt:  10.996\n",
            "Epoch: 200 cost = 0.113 SNR:  9.226 opt:  11.296\n",
            "Epoch: 210 cost = 0.099 SNR:  9.780 opt:  10.649\n",
            "Epoch: 220 cost = 0.107 SNR:  9.463 opt:  11.056\n",
            "Epoch: 230 cost = 0.107 SNR:  9.460 opt:  11.063\n",
            "Epoch: 240 cost = 0.108 SNR:  9.425 opt:  11.075\n",
            "Epoch: 250 cost = 0.099 SNR:  9.766 opt:  10.623\n",
            "Epoch: 260 cost = 0.103 SNR:  9.651 opt:  10.805\n",
            "Epoch: 270 cost = 0.086 SNR:  10.422 opt:  9.981\n",
            "Epoch: 280 cost = 0.087 SNR:  10.370 opt:  9.959\n",
            "Epoch: 290 cost = 0.080 SNR:  10.749 opt:  9.642\n",
            "Epoch: 300 cost = 0.084 SNR:  10.496 opt:  9.883\n",
            "Epoch: 310 cost = 0.063 SNR:  11.751 opt:  8.781\n",
            "Epoch: 320 cost = 0.062 SNR:  11.851 opt:  8.702\n",
            "Epoch: 330 cost = 0.061 SNR:  11.930 opt:  8.640\n",
            "Epoch: 340 cost = 0.060 SNR:  12.001 opt:  8.585\n",
            "Epoch: 350 cost = 0.059 SNR:  12.066 opt:  8.534\n",
            "Epoch: 360 cost = 0.058 SNR:  12.128 opt:  8.488\n",
            "Epoch: 370 cost = 0.057 SNR:  12.186 opt:  8.444\n",
            "Epoch: 380 cost = 0.056 SNR:  12.242 opt:  8.402\n",
            "Epoch: 390 cost = 0.056 SNR:  12.300 opt:  8.359\n",
            "Epoch: 400 cost = 0.055 SNR:  12.354 opt:  8.320\n",
            "Epoch: 410 cost = 0.054 SNR:  12.423 opt:  8.270\n",
            "Epoch: 420 cost = 0.054 SNR:  12.452 opt:  8.249\n",
            "Epoch: 430 cost = 0.053 SNR:  12.480 opt:  8.229\n",
            "Epoch: 440 cost = 0.053 SNR:  12.506 opt:  8.210\n",
            "Epoch: 450 cost = 0.053 SNR:  12.532 opt:  8.192\n",
            "Epoch: 460 cost = 0.052 SNR:  12.557 opt:  8.174\n",
            "Epoch: 470 cost = 0.052 SNR:  12.582 opt:  8.157\n",
            "Epoch: 480 cost = 0.052 SNR:  12.606 opt:  8.140\n",
            "Epoch: 490 cost = 0.052 SNR:  12.630 opt:  8.123\n",
            "Epoch: 500 cost = 0.051 SNR:  12.654 opt:  8.106\n",
            "Epoch: 510 cost = 0.051 SNR:  12.689 opt:  8.082\n",
            "Epoch: 520 cost = 0.051 SNR:  12.702 opt:  8.073\n",
            "Epoch: 530 cost = 0.051 SNR:  12.715 opt:  8.065\n",
            "Epoch: 540 cost = 0.050 SNR:  12.727 opt:  8.057\n",
            "Epoch: 550 cost = 0.050 SNR:  12.738 opt:  8.049\n",
            "Epoch: 560 cost = 0.050 SNR:  12.750 opt:  8.041\n",
            "Epoch: 570 cost = 0.050 SNR:  12.762 opt:  8.033\n",
            "Epoch: 580 cost = 0.050 SNR:  12.773 opt:  8.025\n",
            "Epoch: 590 cost = 0.050 SNR:  12.785 opt:  8.017\n",
            "Epoch: 600 cost = 0.050 SNR:  12.796 opt:  8.010\n",
            "Epoch: 610 cost = 0.049 SNR:  12.814 opt:  7.998\n",
            "Epoch: 620 cost = 0.049 SNR:  12.820 opt:  7.994\n",
            "Epoch: 630 cost = 0.049 SNR:  12.826 opt:  7.990\n",
            "Epoch: 640 cost = 0.049 SNR:  12.831 opt:  7.986\n",
            "Epoch: 650 cost = 0.049 SNR:  12.837 opt:  7.982\n",
            "Epoch: 660 cost = 0.049 SNR:  12.842 opt:  7.979\n",
            "Epoch: 670 cost = 0.049 SNR:  12.848 opt:  7.975\n",
            "Epoch: 680 cost = 0.049 SNR:  12.854 opt:  7.971\n",
            "Epoch: 690 cost = 0.049 SNR:  12.859 opt:  7.967\n",
            "Epoch: 700 cost = 0.049 SNR:  12.865 opt:  7.964\n",
            "Epoch: 710 cost = 0.049 SNR:  12.874 opt:  7.958\n",
            "Epoch: 720 cost = 0.049 SNR:  12.876 opt:  7.956\n",
            "Epoch: 730 cost = 0.049 SNR:  12.879 opt:  7.954\n",
            "Epoch: 740 cost = 0.049 SNR:  12.882 opt:  7.952\n",
            "Epoch: 750 cost = 0.049 SNR:  12.885 opt:  7.950\n",
            "Epoch: 760 cost = 0.049 SNR:  12.887 opt:  7.949\n",
            "Epoch: 770 cost = 0.049 SNR:  12.890 opt:  7.947\n",
            "Epoch: 780 cost = 0.049 SNR:  12.893 opt:  7.945\n",
            "Epoch: 790 cost = 0.049 SNR:  12.896 opt:  7.943\n",
            "Epoch: 800 cost = 0.048 SNR:  12.898 opt:  7.941\n",
            "Epoch: 810 cost = 0.048 SNR:  12.903 opt:  7.938\n",
            "Epoch: 820 cost = 0.048 SNR:  12.904 opt:  7.937\n",
            "Epoch: 830 cost = 0.048 SNR:  12.906 opt:  7.937\n",
            "Epoch: 840 cost = 0.048 SNR:  12.907 opt:  7.936\n",
            "Epoch: 850 cost = 0.048 SNR:  12.908 opt:  7.935\n",
            "Epoch: 860 cost = 0.048 SNR:  12.910 opt:  7.934\n",
            "Epoch: 870 cost = 0.048 SNR:  12.911 opt:  7.933\n",
            "Epoch: 880 cost = 0.048 SNR:  12.912 opt:  7.932\n",
            "Epoch: 890 cost = 0.048 SNR:  12.914 opt:  7.931\n",
            "Epoch: 900 cost = 0.048 SNR:  12.915 opt:  7.930\n",
            "Epoch: 910 cost = 0.048 SNR:  12.917 opt:  7.929\n",
            "Epoch: 920 cost = 0.048 SNR:  12.918 opt:  7.928\n",
            "Epoch: 930 cost = 0.048 SNR:  12.919 opt:  7.928\n",
            "Epoch: 940 cost = 0.048 SNR:  12.919 opt:  7.928\n",
            "Epoch: 950 cost = 0.048 SNR:  12.920 opt:  7.927\n",
            "Epoch: 960 cost = 0.048 SNR:  12.921 opt:  7.927\n",
            "Epoch: 970 cost = 0.048 SNR:  12.921 opt:  7.926\n",
            "Epoch: 980 cost = 0.048 SNR:  12.922 opt:  7.926\n",
            "Epoch: 990 cost = 0.048 SNR:  12.923 opt:  7.925\n",
            "Epoch: 1000 cost = 0.048 SNR:  12.923 opt:  7.925\n"
          ],
          "name": "stdout"
        }
      ]
    },
    {
      "metadata": {
        "id": "TuKTsXFqjtyy",
        "colab_type": "code",
        "outputId": "43ad1050-2e18-46b5-9bcd-706038c92490",
        "colab": {
          "base_uri": "https://localhost:8080/",
          "height": 34
        }
      },
      "cell_type": "code",
      "source": [
        "Phase = np.divide(train_clean_stft, np.abs(train_clean_stft))\n",
        "train_reconstruction = np.multiply(np.transpose(train_clean),Phase)\n",
        "train_reconstruction = librosa.istft(train_reconstruction,hop_length=512)\n",
        "s_reduced = train_clean_vector[:len(train_reconstruction)]\n",
        "print(\"SNR of training data:\",round(10*np.log10(np.sum(s_reduced**2)/np.sum((s_reduced-train_reconstruction)**2)),2))"
      ],
      "execution_count": 9,
      "outputs": [
        {
          "output_type": "stream",
          "text": [
            "SNR of training data: 13.87\n"
          ],
          "name": "stdout"
        }
      ]
    },
    {
      "metadata": {
        "id": "UaRr6RBxBEcv",
        "colab_type": "text"
      },
      "cell_type": "markdown",
      "source": [
        "## Reconstructing and saving denoised test1 audio"
      ]
    },
    {
      "metadata": {
        "id": "zRfm-yvTeyKE",
        "colab_type": "code",
        "colab": {}
      },
      "cell_type": "code",
      "source": [
        "Phase = np.divide(test1_stft, np.abs(test1_stft))\n",
        "test1_reconstruction = np.multiply(np.transpose(test1_clean),Phase)\n",
        "test1_reconstruction = librosa.istft(test1_reconstruction,hop_length=512)\n",
        "librosa.output.write_wav('test1_cleaned_1d.wav', test1_reconstruction, test1_sr)\n",
        "files.download('test1_cleaned_1d.wav')"
      ],
      "execution_count": 0,
      "outputs": []
    },
    {
      "metadata": {
        "id": "qfWGPPj9BhIe",
        "colab_type": "text"
      },
      "cell_type": "markdown",
      "source": [
        "## Reconstructing and saving denoised test2 audio"
      ]
    },
    {
      "metadata": {
        "id": "bR4KycDmZ8av",
        "colab_type": "code",
        "colab": {}
      },
      "cell_type": "code",
      "source": [
        "Phase = np.divide(test2_stft, np.abs(test2_stft))\n",
        "test2_reconstruction = np.multiply(np.transpose(test2_clean),Phase)\n",
        "test2_reconstruction = librosa.istft(test2_reconstruction,hop_length=512)\n",
        "librosa.output.write_wav('test2_cleaned_1d.wav', test2_reconstruction, test2_sr)\n",
        "files.download('test2_cleaned_1d.wav')"
      ],
      "execution_count": 0,
      "outputs": []
    },
    {
      "metadata": {
        "id": "Y6XvEv7YfyaZ",
        "colab_type": "code",
        "colab": {}
      },
      "cell_type": "code",
      "source": [
        ""
      ],
      "execution_count": 0,
      "outputs": []
    }
  ]
}