{
  "nbformat": 4,
  "nbformat_minor": 0,
  "metadata": {
    "colab": {
      "name": "Speech_Denoising_2D_CNN.ipynb",
      "version": "0.3.2",
      "provenance": [],
      "collapsed_sections": []
    },
    "kernelspec": {
      "name": "python3",
      "display_name": "Python 3"
    },
    "accelerator": "GPU"
  },
  "cells": [
    {
      "metadata": {
        "id": "OEpgQWuLMzN5",
        "colab_type": "code",
        "colab": {}
      },
      "cell_type": "code",
      "source": [
        "import tensorflow as tf\n",
        "import tensorflow.keras as keras\n",
        "import pandas as pd\n",
        "import numpy as np\n",
        "import matplotlib.pyplot as plt\n",
        "from scipy import signal\n",
        "from google.colab import files\n",
        "#!pip install librosa # in colab, you'll need to install this\n",
        "import librosa"
      ],
      "execution_count": 0,
      "outputs": []
    },
    {
      "metadata": {
        "id": "Rgoa2ZnCaOR4",
        "colab_type": "code",
        "colab": {}
      },
      "cell_type": "code",
      "source": [
        "train_clean_vector, train_clean_sr=librosa.load('train_clean_male.wav', sr=None)\n",
        "train_clean_stft=librosa.stft(train_clean_vector, n_fft=1024, hop_length=512)\n",
        "\n",
        "train_noisy_vector, train_noisy_sr=librosa.load('train_dirty_male.wav', sr=None)\n",
        "train_noisy_stft=librosa.stft(train_noisy_vector, n_fft=1024, hop_length=512)\n",
        "\n",
        "test1_vector, test1_sr=librosa.load('test_x_01.wav', sr=None)\n",
        "test1_stft=librosa.stft(test1_vector, n_fft=1024, hop_length=512)\n",
        "\n",
        "test2_vector, test2_sr=librosa.load('test_x_02.wav', sr=None)\n",
        "test2_stft=librosa.stft(test2_vector, n_fft=1024, hop_length=512)"
      ],
      "execution_count": 0,
      "outputs": []
    },
    {
      "metadata": {
        "id": "9M0o3s5fs9Ql",
        "colab_type": "text"
      },
      "cell_type": "markdown",
      "source": [
        "## Data Transformation"
      ]
    },
    {
      "metadata": {
        "id": "OOOchNyJvKir",
        "colab_type": "code",
        "colab": {}
      },
      "cell_type": "code",
      "source": [
        "train_Y_org=np.abs(train_clean_stft).transpose()\n",
        "train_X_org=np.abs(train_noisy_stft).transpose()\n",
        "test1_X_org=np.abs(test1_stft).transpose()\n",
        "test2_X_org=np.abs(test2_stft).transpose()"
      ],
      "execution_count": 0,
      "outputs": []
    },
    {
      "metadata": {
        "id": "VUl7Fk-xUrev",
        "colab_type": "code",
        "colab": {}
      },
      "cell_type": "code",
      "source": [
        "train_Y = train_Y_org[19:,:]\n",
        "train_X=np.asarray([train_X_org[i:i+20,:] for i in range(len(train_X_org)-19)])\n",
        "test1_X=np.asarray([test1_X_org[i:i+20,:] for i in range(len(test1_X_org)-19)])\n",
        "test2_X=np.asarray([test2_X_org[i:i+20,:] for i in range(len(test2_X_org)-19)])"
      ],
      "execution_count": 0,
      "outputs": []
    },
    {
      "metadata": {
        "id": "S-swGstOssg2",
        "colab_type": "text"
      },
      "cell_type": "markdown",
      "source": [
        "## 2D CNN Model Configuration"
      ]
    },
    {
      "metadata": {
        "id": "ti5jP-jgRgXq",
        "colab_type": "code",
        "colab": {}
      },
      "cell_type": "code",
      "source": [
        "x = tf.placeholder(tf.float32, [None,20, 513])\n",
        "y = tf.placeholder(tf.float32, [None, 513])\n",
        "input_layer = tf.reshape(x, [-1, 20,513,1])"
      ],
      "execution_count": 0,
      "outputs": []
    },
    {
      "metadata": {
        "id": "TZBh7NXWBaLq",
        "colab_type": "code",
        "colab": {}
      },
      "cell_type": "code",
      "source": [
        "conv1 = tf.layers.conv2d(inputs=input_layer, filters=16, kernel_size=[4,4], padding=\"same\", activation=tf.nn.relu)\n",
        "pool1 = tf.layers.max_pooling2d(inputs=conv1, pool_size=[2,2], strides=[2,2], padding=\"same\")\n",
        "conv2 = tf.layers.conv2d(inputs=pool1, filters=32, kernel_size=[4,4], padding=\"same\", activation=tf.nn.relu)\n",
        "pool2 = tf.layers.max_pooling2d(inputs=conv2, pool_size=[2,2], strides=[2,2], padding=\"same\")\n",
        "flattened = tf.layers.flatten(pool2)\n",
        "fc = tf.layers.dense(inputs=flattened,units=2048,activation=tf.nn.relu)\n",
        "last= tf.layers.dense(inputs=fc,units=513,activation=tf.nn.relu)\n",
        "output = tf.reshape(last,[-1,513])"
      ],
      "execution_count": 0,
      "outputs": []
    },
    {
      "metadata": {
        "id": "TpgnwnjCPzto",
        "colab_type": "code",
        "colab": {}
      },
      "cell_type": "code",
      "source": [
        "mse = tf.losses.mean_squared_error(y,output)\n",
        "numerator=tf.log(tf.reduce_sum(tf.math.pow(y,2))/tf.reduce_sum(tf.math.pow(tf.math.subtract(y,output),2)))\n",
        "denominator = tf.log(tf.constant(10, dtype=numerator.dtype))\n",
        "snr=10*(numerator/denominator)"
      ],
      "execution_count": 0,
      "outputs": []
    },
    {
      "metadata": {
        "id": "jTOQfN3js1kV",
        "colab_type": "text"
      },
      "cell_type": "markdown",
      "source": [
        "## Model Training"
      ]
    },
    {
      "metadata": {
        "id": "FDcI-AcuCYIz",
        "colab_type": "code",
        "outputId": "e14a896a-586b-4934-eb6a-758e732aea01",
        "colab": {
          "base_uri": "https://localhost:8080/",
          "height": 210
        }
      },
      "cell_type": "code",
      "source": [
        "learning_rate = 0.8\n",
        "epochs = 100\n",
        "batch_size = 10\n",
        "optimiser = tf.train.GradientDescentOptimizer(learning_rate=learning_rate).minimize(mse)\n",
        "\n",
        "#Creating Minibatchs\n",
        "total_batch=int(len(train_Y)/batch_size)\n",
        "index=np.arange(len(train_X))\n",
        "\n",
        "#Training the model\n",
        "sess= tf.Session()\n",
        "init_op = tf.global_variables_initializer()\n",
        "sess.run(init_op)\n",
        "for epoch in range(epochs):\n",
        "  avg_cost=snr_value=0\n",
        "  np.random.shuffle(index)\n",
        "  \n",
        "  for i,idx in zip(range(total_batch),np.reshape(index,(-1,batch_size))):\n",
        "    _ , c, snr1 = sess.run([optimiser, mse,snr], feed_dict={x: train_X[idx], y: train_Y[idx]})\n",
        "    avg_cost += c / total_batch\n",
        "    snr_value += snr1/total_batch\n",
        "    #print(idx)\n",
        "  if(epoch==0 or (epoch+1)%10==0):\n",
        "    print(\"Epoch:\", (epoch + 1), \"cost =\", \"{:.3f}\".format(avg_cost),\"SNR: \",\"{:.3f}\".format(snr_value))\n"
      ],
      "execution_count": 9,
      "outputs": [
        {
          "output_type": "stream",
          "text": [
            "Epoch: 1 cost = 0.066 SNR:  1.682\n",
            "Epoch: 10 cost = 0.007 SNR:  10.181\n",
            "Epoch: 20 cost = 0.004 SNR:  12.685\n",
            "Epoch: 30 cost = 0.003 SNR:  13.568\n",
            "Epoch: 40 cost = 0.003 SNR:  14.675\n",
            "Epoch: 50 cost = 0.002 SNR:  15.334\n",
            "Epoch: 60 cost = 0.002 SNR:  15.269\n",
            "Epoch: 70 cost = 0.002 SNR:  16.087\n",
            "Epoch: 80 cost = 0.002 SNR:  16.932\n",
            "Epoch: 90 cost = 0.001 SNR:  17.199\n",
            "Epoch: 100 cost = 0.002 SNR:  17.074\n"
          ],
          "name": "stdout"
        }
      ]
    },
    {
      "metadata": {
        "id": "T4I5AIW4sFjr",
        "colab_type": "text"
      },
      "cell_type": "markdown",
      "source": [
        "### **Cleanup of the noisy sounds with the trained model**"
      ]
    },
    {
      "metadata": {
        "id": "Zi2fMErzQ8hx",
        "colab_type": "code",
        "colab": {}
      },
      "cell_type": "code",
      "source": [
        "test1_clean=sess.run(output, feed_dict={x: test1_X})\n",
        "\n",
        "test2_clean=sess.run(output, feed_dict={x: test2_X})\n",
        "\n",
        "train_clean=sess.run(output, feed_dict={x: train_X})"
      ],
      "execution_count": 0,
      "outputs": []
    },
    {
      "metadata": {
        "id": "oWwaUvzEp4iQ",
        "colab_type": "code",
        "colab": {
          "base_uri": "https://localhost:8080/",
          "height": 34
        },
        "outputId": "1cd45603-0f8a-4fe6-d628-b5427a5f9239"
      },
      "cell_type": "code",
      "source": [
        "random = np.random.uniform(low=np.min(train_clean), high=np.mean(train_clean), size=(19,513)) \n",
        "train_recon = np.append(random,train_clean, axis=0)\n",
        "\n",
        "Phase = np.divide(train_noisy_stft, np.abs(train_noisy_stft))\n",
        "train_reconstruction = np.multiply(np.transpose(train_recon),Phase)\n",
        "train_reconstruction = librosa.istft(train_reconstruction,hop_length=512)\n",
        "s_reduced = train_clean_vector[:1258496]\n",
        "print(\"SNR of training data:\",round(10*(math.log(np.sum(s_reduced**2)/np.sum((np.subtract(train_reconstruction,s_reduced)**2)),10)),2))"
      ],
      "execution_count": 48,
      "outputs": [
        {
          "output_type": "stream",
          "text": [
            "SNR of training data: 16.16\n"
          ],
          "name": "stdout"
        }
      ]
    },
    {
      "metadata": {
        "id": "UaRr6RBxBEcv",
        "colab_type": "text"
      },
      "cell_type": "markdown",
      "source": [
        "### Reconstructing and saving denoised test1 audio"
      ]
    },
    {
      "metadata": {
        "id": "zRfm-yvTeyKE",
        "colab_type": "code",
        "colab": {}
      },
      "cell_type": "code",
      "source": [
        "test1_stft_trunc=test1_stft.transpose()[19:,:].transpose()\n",
        "Phase = np.divide(test1_stft_trunc, np.abs(test1_stft_trunc))\n",
        "test1_reconstruction = np.multiply(np.transpose(test1_clean),Phase)\n",
        "test1_reconstruction = librosa.istft(test1_reconstruction,hop_length=512)\n",
        "librosa.output.write_wav('test1_cleaned_2d.wav', test1_reconstruction, test1_sr)\n",
        "files.download('test1_cleaned_2d.wav')"
      ],
      "execution_count": 0,
      "outputs": []
    },
    {
      "metadata": {
        "id": "qfWGPPj9BhIe",
        "colab_type": "text"
      },
      "cell_type": "markdown",
      "source": [
        "### Reconstructing and saving denoised test2 audio"
      ]
    },
    {
      "metadata": {
        "id": "bR4KycDmZ8av",
        "colab_type": "code",
        "colab": {}
      },
      "cell_type": "code",
      "source": [
        "test2_stft_trunc=test2_stft.transpose()[19:,:].transpose()\n",
        "Phase = np.divide(test2_stft_trunc, np.abs(test2_stft_trunc))\n",
        "\n",
        "test2_reconstruction = np.multiply(np.transpose(test2_clean),Phase)\n",
        "test2_reconstruction = librosa.istft(test2_reconstruction,hop_length=512)\n",
        "librosa.output.write_wav('test2_cleaned_2d.wav', test2_reconstruction, test2_sr)\n",
        "files.download('test2_cleaned_2d.wav')"
      ],
      "execution_count": 0,
      "outputs": []
    }
  ]
}