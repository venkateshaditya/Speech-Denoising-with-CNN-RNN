{
  "nbformat": 4,
  "nbformat_minor": 0,
  "metadata": {
    "colab": {
      "name": "RNN_Denoising.ipynb",
      "version": "0.3.2",
      "provenance": [],
      "collapsed_sections": [],
      "toc_visible": true
    },
    "kernelspec": {
      "name": "python3",
      "display_name": "Python 3"
    },
    "accelerator": "TPU"
  },
  "cells": [
    {
      "metadata": {
        "id": "_rReuCcB1l-i",
        "colab_type": "code",
        "colab": {}
      },
      "cell_type": "code",
      "source": [
        "!unzip homework3.zip"
      ],
      "execution_count": 0,
      "outputs": []
    },
    {
      "metadata": {
        "id": "QbPHwqW40gq5",
        "colab_type": "code",
        "colab": {}
      },
      "cell_type": "code",
      "source": [
        "#from __future__ import absolute_import, division, print_function\n",
        "import numpy as np \n",
        "import pandas as pd\n",
        "import tensorflow as tf\n",
        "import librosa\n",
        "import os\n",
        "import pickle\n",
        "import zipfile\n",
        "import seaborn as sns\n",
        "import matplotlib.pyplot as plt\n",
        "import math"
      ],
      "execution_count": 0,
      "outputs": []
    },
    {
      "metadata": {
        "id": "KUBLfU8c0gq8",
        "colab_type": "code",
        "colab": {}
      },
      "cell_type": "code",
      "source": [
        "from tensorflow.keras.models import Sequential\n",
        "from tensorflow.keras.layers import Dense\n",
        "from tensorflow.keras.layers import LSTM\n",
        "from tensorflow.keras.layers import Dropout\n",
        "from tensorflow.keras.layers import Reshape"
      ],
      "execution_count": 0,
      "outputs": []
    },
    {
      "metadata": {
        "id": "qkMHhdN3Vvzw",
        "colab_type": "text"
      },
      "cell_type": "markdown",
      "source": [
        "### Function to perform Sequence Length Padding\n",
        "In this project, we are loading audio files of varying lengths. </br>\n",
        "The Sequence Padding function is used to maintain uniformity in the dimension of data that is passed to neural network training.</br>\n",
        "***max_seq_length*** would ideally be the length of the longest audio file in the dataset"
      ]
    },
    {
      "metadata": {
        "id": "qOVpx5K5UiMF",
        "colab_type": "code",
        "colab": {}
      },
      "cell_type": "code",
      "source": [
        "def sequence_padding(audio_matrix_collection,max_seq_length=300):\n",
        "  Padded_Matrix=[]\n",
        "  for i in range(len(audio_matrix_collection)): #For each audio file\n",
        "    Padded_Matrix.append(np.pad(audio_matrix_collection[i], ((0,max_seq_length-audio_matrix_collection[i].shape[0]),(0,0)), 'constant'))\n",
        "  return Padded_Matrix"
      ],
      "execution_count": 0,
      "outputs": []
    },
    {
      "metadata": {
        "id": "MItEtX1WZpTs",
        "colab_type": "text"
      },
      "cell_type": "markdown",
      "source": [
        "### Function for creating Ideal Binary Masks\n",
        "Which is the expected mask matrix output from the neural network"
      ]
    },
    {
      "metadata": {
        "id": "CUJeqnFvZo1z",
        "colab_type": "code",
        "colab": {}
      },
      "cell_type": "code",
      "source": [
        "def create_IBM(Speech,Noise,max_seq_length=300):\n",
        "  IBM=[]\n",
        "  for i in range(len(Speech)):\n",
        "    IBM.append(1*(Speech[i]>Noise[i]))\n",
        "  return sequence_padding(IBM,max_seq_length)"
      ],
      "execution_count": 0,
      "outputs": []
    },
    {
      "metadata": {
        "id": "6dUwi_hFoBrV",
        "colab_type": "text"
      },
      "cell_type": "markdown",
      "source": [
        "### Funtion for random shuffling of data used for minibatching"
      ]
    },
    {
      "metadata": {
        "id": "Ef-DDPBMn88U",
        "colab_type": "code",
        "colab": {}
      },
      "cell_type": "code",
      "source": [
        "def random_shuffling(X,Noise,Seq):\n",
        "    random = np.arange(0, len(X))\n",
        "    np.random.shuffle(random)\n",
        "    A=[X[i] for i in random]\n",
        "    B=[Noise[i] for i in random]\n",
        "    C=[Seq[i] for i in random]\n",
        "    \n",
        "    return A,B,C"
      ],
      "execution_count": 0,
      "outputs": []
    },
    {
      "metadata": {
        "id": "QrVIorlnWye0",
        "colab_type": "text"
      },
      "cell_type": "markdown",
      "source": [
        "### Gathering the list of files in the Training, Validation and Test sets"
      ]
    },
    {
      "metadata": {
        "id": "KgKlvXIK0gq_",
        "colab_type": "code",
        "colab": {}
      },
      "cell_type": "code",
      "source": [
        "Train_Files, Val_Files, Test_Files = [[] for i in range(3)]\n",
        "Train_Files = os.listdir('timit-homework/tr')\n",
        "Val_Files = os.listdir('timit-homework/v')\n",
        "Test_Files = os.listdir('timit-homework/te')\n",
        "Train_Files.sort()\n",
        "Val_Files.sort()\n",
        "Test_Files.sort()"
      ],
      "execution_count": 0,
      "outputs": []
    },
    {
      "metadata": {
        "id": "8LXPCuhIW-P4",
        "colab_type": "text"
      },
      "cell_type": "markdown",
      "source": [
        "### Reading Training and Validation Data\n",
        "\n",
        "*   The first 1200 files are the Noise parts of the audio\n",
        "*   The second 1200 files are the Clean speech files\n",
        "*   The last 1200 files are the noisy speech files that will be used for training\n",
        "\n",
        "\n"
      ]
    },
    {
      "metadata": {
        "id": "xOSWNT-I0grC",
        "colab_type": "code",
        "colab": {}
      },
      "cell_type": "code",
      "source": [
        "Train_Noise,Train_Clean,Train_Mixed,Train_Audio_Len=[[] for i in range(4)]\n",
        "for i in range(1200):\n",
        "    s, sr=librosa.load('timit-homework/tr/' + Train_Files[i], sr=None)\n",
        "    Train_Noise.append(np.transpose(np.abs(librosa.stft(s, n_fft=1024, hop_length=512))))\n",
        "\n",
        "    s, sr=librosa.load('timit-homework/tr/' + Train_Files[i + 1200], sr=None)\n",
        "    Train_Clean.append(np.transpose(np.abs(librosa.stft(s, n_fft=1024, hop_length=512))))\n",
        "    \n",
        "    s, sr=librosa.load('timit-homework/tr/' + Train_Files[i + 2400], sr=None)\n",
        "    Train_Mixed.append(np.transpose(np.abs(librosa.stft(s, n_fft=1024, hop_length=512))))\n",
        "    \n",
        "    Train_Audio_Len.append(len(Train_Noise[-1]))"
      ],
      "execution_count": 0,
      "outputs": []
    },
    {
      "metadata": {
        "id": "k-oT3z2F0grF",
        "colab_type": "code",
        "colab": {}
      },
      "cell_type": "code",
      "source": [
        "Validation_Noise,Validation_Clean,Validation_Mixed,Validation_Audio_Len=[[] for i in range(4)]\n",
        "for i in range(1200):\n",
        "    if(i%120==0):\n",
        "      print(i/12)\n",
        "    s, sr=librosa.load('timit-homework/v/' + Val_Files[i], sr=None)\n",
        "    Validation_Noise.append(np.transpose(np.abs(librosa.stft(s, n_fft=1024, hop_length=512))))\n",
        "\n",
        "    s, sr=librosa.load('timit-homework/v/' + Val_Files[i + 1200], sr=None)\n",
        "    Validation_Clean.append(np.transpose(np.abs(librosa.stft(s, n_fft=1024, hop_length=512))))\n",
        "    \n",
        "    s, sr=librosa.load('timit-homework/v/' + Val_Files[i + 2400], sr=None)\n",
        "    Validation_Mixed.append(np.transpose(np.abs(librosa.stft(s, n_fft=1024, hop_length=512))))\n",
        "    \n",
        "    Validation_Audio_Len.append(len(Validation_Noise[-1]))"
      ],
      "execution_count": 0,
      "outputs": []
    },
    {
      "metadata": {
        "id": "nAN5v6vpYwzs",
        "colab_type": "text"
      },
      "cell_type": "markdown",
      "source": [
        "### Padding the Train and Validation data\n"
      ]
    },
    {
      "metadata": {
        "id": "nkUqoHJd0grI",
        "colab_type": "code",
        "colab": {
          "base_uri": "https://localhost:8080/",
          "height": 35
        },
        "outputId": "831b660c-10b6-45bb-ba06-cc623c89761a"
      },
      "cell_type": "code",
      "source": [
        "longest_seq=max([max(Train_Audio_Len),max(Validation_Audio_Len)])\n",
        "print(\"Length of Longest file in Train and Validation Set\",longest_seq)\n",
        "longest_seq=longest_seq+100   #To account for unknown in test data"
      ],
      "execution_count": 49,
      "outputs": [
        {
          "output_type": "stream",
          "text": [
            "Length of Longest file in Train and Validation Set 178\n"
          ],
          "name": "stdout"
        }
      ]
    },
    {
      "metadata": {
        "id": "it_WwUXgYvdw",
        "colab_type": "code",
        "colab": {}
      },
      "cell_type": "code",
      "source": [
        "Train_X=sequence_padding(Train_Mixed,longest_seq)\n",
        "Val_X=sequence_padding(Validation_Mixed,longest_seq)"
      ],
      "execution_count": 0,
      "outputs": []
    },
    {
      "metadata": {
        "id": "pQeJLDv7dC7C",
        "colab_type": "text"
      },
      "cell_type": "markdown",
      "source": [
        "### Creating IBM Matrix"
      ]
    },
    {
      "metadata": {
        "id": "GC1ctnWRdCUv",
        "colab_type": "code",
        "colab": {}
      },
      "cell_type": "code",
      "source": [
        "Train_IBM = create_IBM(Train_Clean,Train_Noise,longest_seq)\n",
        "Val_IBM = create_IBM(Validation_Clean,Validation_Noise,longest_seq)"
      ],
      "execution_count": 0,
      "outputs": []
    },
    {
      "metadata": {
        "id": "6SMtx1i2eK3Z",
        "colab_type": "text"
      },
      "cell_type": "markdown",
      "source": [
        "### Storing Train and Validation data for easy retrieval in future run"
      ]
    },
    {
      "metadata": {
        "id": "02wFdK7reKIQ",
        "colab_type": "code",
        "colab": {}
      },
      "cell_type": "code",
      "source": [
        "with open('train_final.p', 'wb') as f:\n",
        "    pickle.dump([Train_X,Train_IBM,Train_Audio_Len,Train_Files],f)"
      ],
      "execution_count": 0,
      "outputs": []
    },
    {
      "metadata": {
        "id": "wJFG85Z_je7R",
        "colab_type": "code",
        "colab": {}
      },
      "cell_type": "code",
      "source": [
        "with open('val_final.p', 'wb') as f:\n",
        "    pickle.dump([Val_X,Val_IBM,Val_Audio_Len,Val_Files],f)"
      ],
      "execution_count": 0,
      "outputs": []
    },
    {
      "metadata": {
        "id": "XZffNgcVMiZK",
        "colab_type": "text"
      },
      "cell_type": "markdown",
      "source": [
        "### **Loading preprocessed Train and Validation data**"
      ]
    },
    {
      "metadata": {
        "id": "OCMRiufeE0F6",
        "colab_type": "code",
        "colab": {}
      },
      "cell_type": "code",
      "source": [
        "#!unzip train_final.zip\n",
        "with open('train_final.p', 'rb') as f:\n",
        "    Train_X,Train_IBM,Train_Audio_Len,Train_Files = pickle.load(f)"
      ],
      "execution_count": 0,
      "outputs": []
    },
    {
      "metadata": {
        "id": "pYt5otVJkz2T",
        "colab_type": "code",
        "colab": {}
      },
      "cell_type": "code",
      "source": [
        "\n",
        "#!unzip val_final.zip\n",
        "with open('val_final.p', 'rb') as f:\n",
        "    Val_X,Val_IBM,Val_Audio_Len,Val_Files = pickle.load(f)"
      ],
      "execution_count": 0,
      "outputs": []
    },
    {
      "metadata": {
        "id": "xnbHL_PlUtSt",
        "colab_type": "text"
      },
      "cell_type": "markdown",
      "source": [
        "# **Keras Model**"
      ]
    },
    {
      "metadata": {
        "id": "FbU4c-r9Jxtg",
        "colab_type": "text"
      },
      "cell_type": "markdown",
      "source": [
        "Attempted to use tensorflow 2.0 Alpha - Poor performace thwarted execution"
      ]
    },
    {
      "metadata": {
        "id": "zPoAgJCb0grX",
        "colab_type": "code",
        "colab": {}
      },
      "cell_type": "code",
      "source": [
        "model = Sequential()\n",
        "model.add(LSTM(5130,input_shape=(10,513), dropout= 0.2,recurrent_dropout=0.2,activation='softmax'))\n",
        "model.add(Dense(5130,activation='relu'))\n",
        "model.add(Reshape((10, 513),input_shape=(5130,)))\n",
        "model.compile(loss = 'mean_squared_error', optimizer='adam',metrics = ['mean_squared_error'])\n",
        "print(model.summary())"
      ],
      "execution_count": 0,
      "outputs": []
    },
    {
      "metadata": {
        "id": "HYVkgQ8cTlIi",
        "colab_type": "code",
        "colab": {}
      },
      "cell_type": "code",
      "source": [
        "model.fit(Train_X, Train_IMB, epochs=10, batch_size=1000, verbose=2)"
      ],
      "execution_count": 0,
      "outputs": []
    },
    {
      "metadata": {
        "id": "xFO_37hv0grc",
        "colab_type": "code",
        "colab": {}
      },
      "cell_type": "code",
      "source": [
        "model.save_weights('model_weights.h5')\n",
        "\n",
        "with open('model_architecture.json', 'w') as f:\n",
        "    f.write(model.to_json())"
      ],
      "execution_count": 0,
      "outputs": []
    },
    {
      "metadata": {
        "id": "Et1FCSUVU28E",
        "colab_type": "text"
      },
      "cell_type": "markdown",
      "source": [
        "# **Tensorflow Model**"
      ]
    },
    {
      "metadata": {
        "id": "7Zd8IGEhS1CK",
        "colab_type": "code",
        "colab": {}
      },
      "cell_type": "code",
      "source": [
        "x = tf.placeholder(tf.float32, [None, longest_seq, 513])\n",
        "y = tf.placeholder(tf.float32, [None, longest_seq, 513])\n",
        "X_seq_len=tf.placeholder(tf.int32,None)\n",
        "\n",
        "LSTM_Unit = tf.contrib.rnn.LSTMCell(num_units = 256,initializer = tf.contrib.layers.xavier_initializer())\n",
        "Dropout_Unit = tf.nn.rnn_cell.DropoutWrapper(LSTM_Unit, output_keep_prob = 0.99)\n",
        "d_rnn, states = tf.nn.dynamic_rnn(Dropout_Unit, x, dtype=tf.float32,sequence_length=X_seq_len)\n",
        "out=tf.layers.dense(d_rnn, 513,activation=tf.nn.sigmoid,kernel_initializer= tf.contrib.layers.xavier_initializer())\n",
        "\n",
        "\n",
        "loss = tf.reduce_mean(tf.losses.mean_squared_error(out[:, :X_seq_len[0],:], y[:, :X_seq_len[0], :]))\n",
        "optimizer = tf.train.AdamOptimizer(learning_rate = 0.003)\n",
        "train = optimizer.minimize(loss)"
      ],
      "execution_count": 0,
      "outputs": []
    },
    {
      "metadata": {
        "id": "N8xqdBUoTKVr",
        "colab_type": "code",
        "colab": {}
      },
      "cell_type": "code",
      "source": [
        "sess = tf.Session()\n",
        "init = tf.global_variables_initializer()\n",
        "sess.run(init)"
      ],
      "execution_count": 0,
      "outputs": []
    },
    {
      "metadata": {
        "id": "PrdEEHVaTKSA",
        "colab_type": "code",
        "outputId": "3a9d4f3c-9094-465e-a8a8-5d4099aab5c8",
        "colab": {
          "base_uri": "https://localhost:8080/",
          "height": 284
        }
      },
      "cell_type": "code",
      "source": [
        "epochs = 15\n",
        "batch_size=10\n",
        "cost_pre=1\n",
        "learning_rate=0.00001\n",
        "optimizer = tf.train.AdamOptimizer(learning_rate = learning_rate)\n",
        "Epoch_Loss=np.zeros(epochs)\n",
        "\n",
        "for i in range(epochs):\n",
        "    Train_X,Train_IBM,Train_Audio_Len=random_shuffling(Train_X,Train_IBM,Train_Audio_Len)\n",
        "    avgloss=[]\n",
        "    for batch in range(int(len(Train_X)/batch_size)):\n",
        "         batch_X , batch_Y,Seq = Train_X[(i*batch_size):(i+1)*batch_size],Train_IBM[(i*batch_size):(i+1)*batch_size],Train_Audio_Len[(i*batch_size):(i+1)*batch_size]\n",
        "         l,_=sess.run([loss,train], feed_dict={x: batch_X, y: batch_Y,X_seq_len:Seq})\n",
        "         avgloss.append(l)\n",
        "    Epoch_Loss[i]=np.mean(avgloss)\n",
        "    \n",
        "    print(\"Epoch:\",i+1,\"MSE:\",Epoch_Loss[i],\" % Change:\" , \"{:.2f}%\".format((cost_pre-Epoch_Loss[i])/cost_pre*100))\n",
        "    if(i>=9):\n",
        "          learning_rate=learning_rate/10\n",
        "          optimizer = tf.train.AdamOptimizer(learning_rate = learning_rate)\n",
        "    cost_pre=Epoch_Loss[i]\n",
        "    "
      ],
      "execution_count": 146,
      "outputs": [
        {
          "output_type": "stream",
          "text": [
            "Epoch: 1 MSE: 0.1277150809764862  % Change: 87.23%\n",
            "Epoch: 2 MSE: 0.11826784163713455  % Change: 7.40%\n",
            "Epoch: 3 MSE: 0.10471253097057343  % Change: 11.46%\n",
            "Epoch: 4 MSE: 0.10454761981964111  % Change: 0.16%\n",
            "Epoch: 5 MSE: 0.12311974912881851  % Change: -17.76%\n",
            "Epoch: 6 MSE: 0.12764102220535278  % Change: -3.67%\n",
            "Epoch: 7 MSE: 0.12423128634691238  % Change: 2.67%\n",
            "Epoch: 8 MSE: 0.14671503007411957  % Change: -18.10%\n",
            "Epoch: 9 MSE: 0.10880974680185318  % Change: 25.84%\n",
            "Epoch: 10 MSE: 0.1311161071062088  % Change: -20.50%\n",
            "Epoch: 11 MSE: 0.12149348109960556  % Change: 7.34%\n",
            "Epoch: 12 MSE: 0.12889902293682098  % Change: -6.10%\n",
            "Epoch: 13 MSE: 0.11527256667613983  % Change: 10.57%\n",
            "Epoch: 14 MSE: 0.11441481858491898  % Change: 0.74%\n",
            "Epoch: 15 MSE: 0.12837181985378265  % Change: -12.20%\n"
          ],
          "name": "stdout"
        }
      ]
    },
    {
      "metadata": {
        "id": "zbEOS11uuzn5",
        "colab_type": "code",
        "colab": {
          "base_uri": "https://localhost:8080/",
          "height": 361
        },
        "outputId": "ef3d677a-f62a-4760-ae85-fcae872d5a8a"
      },
      "cell_type": "code",
      "source": [
        "plt.plot(np.arange(0,15), Epoch_Loss)\n",
        "plt.xlabel('Epoch')\n",
        "plt.ylabel('Loss')\n",
        "plt.show()"
      ],
      "execution_count": 147,
      "outputs": [
        {
          "output_type": "display_data",
          "data": {
            "image/png": "[encoded data removed]",
            "text/plain": [
              "<Figure size 576x396 with 1 Axes>"
            ]
          },
          "metadata": {
            "tags": []
          }
        }
      ]
    },
    {
      "metadata": {
        "id": "6S6n3aJerGeq",
        "colab_type": "text"
      },
      "cell_type": "markdown",
      "source": [
        "### Calculating SNR on Validation Data"
      ]
    },
    {
      "metadata": {
        "id": "rJWKnLdO0ZbJ",
        "colab_type": "code",
        "colab": {}
      },
      "cell_type": "code",
      "source": [
        "def SNR(mask, clean, mixed):\n",
        "    mask = 1 * (mask > 0.5)\n",
        "    new_clean = mask.T * mixed\n",
        "    new_clean = librosa.istft(new_clean, win_length = 1024, hop_length = 512)\n",
        "    n= min(len(clean), len(new_clean))\n",
        "    \n",
        "    dB = 10*math.log10((np.sum(clean[:n]**2))/(np.sum((clean[:n] - new_clean[:n])**2)))\n",
        "    return dB"
      ],
      "execution_count": 0,
      "outputs": []
    },
    {
      "metadata": {
        "id": "R5fIM9oxrGAz",
        "colab_type": "code",
        "colab": {}
      },
      "cell_type": "code",
      "source": [
        "SNR_Val=[]\n",
        "for i in range(len(Val_Files[])):\n",
        "  mask=sess.run(out,feed_dict={x:Val_X[i].reshape(1,longest_seq,513),X_seq_len:Validation_Audio_Len[i]})\n",
        "  \n",
        "  s, sr=librosa.load('timit-homework/v/' + Val_Files[i + 2400], sr=None)\n",
        "  Mixed=librosa.stft(s, n_fft=1024, hop_length=512)\n",
        "  \n",
        "  s, sr=librosa.load('timit-homework/v/' + Val_Files[i + 1200], sr=None)\n",
        "  #Clean=librosa.stft(s, n_fft=1024, hop_length=512)\n",
        "  \n",
        "  SNR_Val.append(SNR(mask[0][:Validation_Audio_Len[i],:],s,Mixed))"
      ],
      "execution_count": 0,
      "outputs": []
    },
    {
      "metadata": {
        "id": "gxYlpON-u9aa",
        "colab_type": "code",
        "colab": {}
      },
      "cell_type": "code",
      "source": [
        "sns.distplot(SNR_Val, hist = False, kde = True,kde_kws = {'shade': True, 'linewidth': 3})"
      ],
      "execution_count": 0,
      "outputs": []
    },
    {
      "metadata": {
        "id": "2Rn0HYP02IiZ",
        "colab_type": "text"
      },
      "cell_type": "markdown",
      "source": [
        "# Reconstructing Test Audio files"
      ]
    },
    {
      "metadata": {
        "id": "aGsVzgXRu9X3",
        "colab_type": "code",
        "colab": {}
      },
      "cell_type": "code",
      "source": [
        "Test_Mixed,Test_Audio_Len=[[] for i in range(2)]\n",
        "\n",
        "for i in range(len(Test_Files)):\n",
        "    s, sr=librosa.load('timit-homework/te/' + Test_Files[i], sr=None)\n",
        "    Test_Mixed.append(np.transpose(np.abs(librosa.stft(s, n_fft=1024, hop_length=512))))\n",
        "    \n",
        "    Test_Audio_Len.append(len(Test_Mixed[-1]))"
      ],
      "execution_count": 0,
      "outputs": []
    },
    {
      "metadata": {
        "id": "9X4IoV5iu9VN",
        "colab_type": "code",
        "colab": {}
      },
      "cell_type": "code",
      "source": [
        "Test_X=sequence_padding(Test_Mixed,longest_seq)"
      ],
      "execution_count": 0,
      "outputs": []
    },
    {
      "metadata": {
        "id": "GaF8FA4L4OXc",
        "colab_type": "code",
        "colab": {}
      },
      "cell_type": "code",
      "source": [
        "Test_Out=sess.run(out,feed_dict={x:Test_X,X_seq_len:Test_Audio_Len})"
      ],
      "execution_count": 0,
      "outputs": []
    },
    {
      "metadata": {
        "id": "nR3w07ZT3A8m",
        "colab_type": "code",
        "colab": {}
      },
      "cell_type": "code",
      "source": [
        "if os.path.isdir(\"test_output\"):\n",
        "  for f in os.listdir('test_output'):\n",
        "      os.remove(os.path.join('test_output', f))\n",
        "else:\n",
        "  os.mkdir('test_output')"
      ],
      "execution_count": 0,
      "outputs": []
    },
    {
      "metadata": {
        "id": "NRD2gLmu8FYP",
        "colab_type": "code",
        "colab": {}
      },
      "cell_type": "code",
      "source": [
        "for i in range(len(Test_Out)):\n",
        "  s, sr=librosa.load('timit-homework/te/' + Test_Files[i], sr=None)\n",
        "  noisy=librosa.stft(s, n_fft=1024, hop_length=512)\n",
        "  mask = 1 * (Test_Out[i] > 0.5)\n",
        "  new_clean = mask[:Test_Audio_Len[i],:].T * noisy\n",
        "  new_clean1 = librosa.istft(new_clean, win_length = 1024, hop_length = 512)\n",
        "  librosa.output.write_wav('test_output/Out_' + Test_Files[i], new_clean1, 16000)"
      ],
      "execution_count": 0,
      "outputs": []
    },
    {
      "metadata": {
        "id": "-zgF335V4_Vk",
        "colab_type": "code",
        "colab": {
          "base_uri": "https://localhost:8080/",
          "height": 35
        },
        "outputId": "48942616-8de9-4c4c-c89d-c20e0348be96"
      },
      "cell_type": "code",
      "source": [
        "import shutil\n",
        "shutil.make_archive(\"output\", 'zip', \"test_output\")"
      ],
      "execution_count": 179,
      "outputs": [
        {
          "output_type": "execute_result",
          "data": {
            "text/plain": [
              "'/content/output.zip'"
            ]
          },
          "metadata": {
            "tags": []
          },
          "execution_count": 179
        }
      ]
    },
    {
      "metadata": {
        "id": "nyIQ2ByJ30aj",
        "colab_type": "text"
      },
      "cell_type": "markdown",
      "source": [
        "\n",
        "\n",
        "---\n",
        "\n"
      ]
    },
    {
      "metadata": {
        "id": "fZ20QBZ1etwp",
        "colab_type": "code",
        "colab": {}
      },
      "cell_type": "code",
      "source": [
        "sess.close()\n",
        "tf.reset_default_graph()"
      ],
      "execution_count": 0,
      "outputs": []
    },
    {
      "metadata": {
        "id": "OQaycKXle2OV",
        "colab_type": "code",
        "colab": {}
      },
      "cell_type": "code",
      "source": [
        "zf = zipfile.ZipFile('output.zip', mode='w')\n",
        "for f in os.listdir('test_output'):\n",
        "  zf.write('test_output/'+f,compress_type = zipfile.ZIP_DEFLATED)"
      ],
      "execution_count": 0,
      "outputs": []
    },
    {
      "metadata": {
        "id": "V3SwgbRA4Dz1",
        "colab_type": "code",
        "colab": {}
      },
      "cell_type": "code",
      "source": [
        "from google.colab import files\n",
        "for f in os.listdir('test_output'):\n",
        "    files.download('test_output/'+f)"
      ],
      "execution_count": 0,
      "outputs": []
    },
    {
      "metadata": {
        "id": "W0Qlpco0K_7e",
        "colab_type": "code",
        "colab": {}
      },
      "cell_type": "code",
      "source": [
        ""
      ],
      "execution_count": 0,
      "outputs": []
    }
  ]
}